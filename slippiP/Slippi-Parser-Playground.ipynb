{
 "cells": [
  {
   "cell_type": "code",
   "execution_count": 1,
   "metadata": {},
   "outputs": [],
   "source": [
    "import ast\n",
    "import json\n",
    "import yaml\n",
    "import tkinter as tk\n",
    "from tkinter import filedialog"
   ]
  },
  {
   "cell_type": "code",
   "execution_count": 2,
   "metadata": {},
   "outputs": [],
   "source": [
    "def getFileName():\n",
    "    root = tk.Tk()\n",
    "    root.attributes(\"-topmost\", True)\n",
    "    root.withdraw()\n",
    "    \n",
    "    file_name = tk.filedialog.askopenfilename(parent=root, filetypes =((\"Text File\", \"*.slp\"),(\"All Files\",\"*.*\")),\n",
    "                           title = \"Choose a file.\")\n",
    "    return file_name.rsplit('/', 1)[1]"
   ]
  },
  {
   "cell_type": "code",
   "execution_count": 3,
   "metadata": {},
   "outputs": [],
   "source": [
    "def runScript():\n",
    "    idk = !node script.js SilkylarouxvsSquawk.slp\n",
    "    temp = ''\n",
    "    for x in idk:\n",
    "        temp += x\n",
    "    return temp"
   ]
  },
  {
   "cell_type": "code",
   "execution_count": 4,
   "metadata": {},
   "outputs": [],
   "source": [
    "def nodeSplitter(inString):\n",
    "    statList = []\n",
    "    temp,temp2 = prepSplit(inString, '[ { pre:')\n",
    "    statList.insert(0,temp2)\n",
    "    temp,temp2 = prepSplit(temp, '{ stocks:')\n",
    "    statList.insert(0,temp2)\n",
    "    temp,temp2 = prepSplit(temp, '{ startAt:')\n",
    "    statList.insert(0,temp2)\n",
    "    ##temp,temp2 = prepSplit(temp, '{ isTeams')\n",
    "    statList.insert(0,temp)\n",
    "    return statList"
   ]
  },
  {
   "cell_type": "code",
   "execution_count": 5,
   "metadata": {},
   "outputs": [],
   "source": [
    "def prepSplit(inString, regex):\n",
    "    temp = inString.split(regex)[0]\n",
    "    temp2 = regex + inString.split(regex)[1] \n",
    "    return temp,temp2"
   ]
  },
  {
   "cell_type": "code",
   "execution_count": 6,
   "metadata": {},
   "outputs": [],
   "source": [
    "def postSplit(inList):\n",
    "    temp = []\n",
    "    for x in inList:\n",
    "        temp.append(yaml.load(x))\n",
    "    return temp"
   ]
  },
  {
   "cell_type": "code",
   "execution_count": 8,
   "metadata": {},
   "outputs": [],
   "source": [
    "temp = runScript()\n",
    "holder = nodeSplitter(temp)"
   ]
  },
  {
   "cell_type": "code",
   "execution_count": 9,
   "metadata": {},
   "outputs": [],
   "source": [
    "holder2 = postSplit(holder)"
   ]
  },
  {
   "cell_type": "code",
   "execution_count": 10,
   "metadata": {},
   "outputs": [],
   "source": [
    "win = tk.Toplevel()\n",
    "f = tk.Frame(win)\n",
    "b1 = tk.Button(f, text=\"One\")\n",
    "b2 = tk.Button(f, text=\"Two\")\n",
    "b3 = tk.Button(f, text=\"Three\")\n",
    "b1.pack(side=\"left\")\n",
    "b2.pack(side=\"left\")\n",
    "b3.pack(side=\"left\")\n",
    "l = tk.Label(f,text =\"This label is over all buttons\")\n",
    "l.pack()\n",
    "f.pack()\n",
    "tk."
   ]
  },
  {
   "cell_type": "code",
   "execution_count": null,
   "metadata": {},
   "outputs": [],
   "source": []
  }
 ],
 "metadata": {
  "kernelspec": {
   "display_name": "Python 3",
   "language": "python",
   "name": "python3"
  },
  "language_info": {
   "codemirror_mode": {
    "name": "ipython",
    "version": 3
   },
   "file_extension": ".py",
   "mimetype": "text/x-python",
   "name": "python",
   "nbconvert_exporter": "python",
   "pygments_lexer": "ipython3",
   "version": "3.7.1"
  }
 },
 "nbformat": 4,
 "nbformat_minor": 2
}
